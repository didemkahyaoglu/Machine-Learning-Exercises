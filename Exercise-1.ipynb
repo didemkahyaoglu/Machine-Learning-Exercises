{
 "cells": [
  {
   "cell_type": "markdown",
   "metadata": {
    "id": "2zoHkOkbf2Ur"
   },
   "source": [
    "Selen Çiğdem <br>\n",
    "Didem Kahyaoğlu"
   ]
  },
  {
   "cell_type": "code",
   "execution_count": 1,
   "metadata": {
    "id": "71HSTB3A1R_R"
   },
   "outputs": [],
   "source": [
    "import numpy as np\n",
    "np.random.seed(11)"
   ]
  },
  {
   "cell_type": "code",
   "execution_count": 2,
   "metadata": {
    "id": "bFh6c8Zb24s8"
   },
   "outputs": [],
   "source": [
    "feature=2 #number of features \n",
    "n=20 #number of data"
   ]
  },
  {
   "cell_type": "code",
   "execution_count": 3,
   "metadata": {
    "colab": {
     "base_uri": "https://localhost:8080/"
    },
    "id": "4xHZszvq1ZRG",
    "outputId": "2313c993-6603-49e9-a02f-2d53b67f2775"
   },
   "outputs": [
    {
     "data": {
      "text/plain": [
       "array([[ 1.74945474e-02, -2.86072997e-03, -4.84565132e-03,\n",
       "        -2.65331856e-02, -8.28462937e-05, -3.19631364e-03,\n",
       "        -5.36629362e-03,  3.15402668e-03,  4.21050716e-03,\n",
       "        -1.06560298e-02, -8.86239670e-03, -4.75733493e-03,\n",
       "         6.89682310e-03,  5.61192176e-03, -1.30554851e-02,\n",
       "        -1.11947526e-02,  7.36837391e-03,  1.57463407e-02,\n",
       "        -3.10750885e-04, -6.83446627e-03],\n",
       "       [ 1.09562970e-02, -3.09576637e-03,  7.25752225e-03,\n",
       "         1.54907163e-02,  6.30079822e-03,  7.34932370e-04,\n",
       "         7.32271354e-03, -6.42575392e-03, -1.78093175e-03,\n",
       "        -5.73954559e-03, -2.04375316e-03, -4.86495100e-03,\n",
       "        -1.85775324e-03, -3.80536417e-03,  8.89776353e-04,\n",
       "         6.36716614e-04,  2.96347108e-03,  1.40277112e-02,\n",
       "        -1.54686257e-02,  1.29561858e-02]])"
      ]
     },
     "execution_count": 3,
     "metadata": {},
     "output_type": "execute_result"
    }
   ],
   "source": [
    "P=  np.random.normal(0,0.01,size=(feature,n))\n",
    "P"
   ]
  },
  {
   "cell_type": "code",
   "execution_count": 4,
   "metadata": {
    "colab": {
     "base_uri": "https://localhost:8080/"
    },
    "id": "TJHXYJhj5nZQ",
    "outputId": "f3f3bc12-ec4b-4bb7-a75e-efc3998e350b"
   },
   "outputs": [
    {
     "data": {
      "text/plain": [
       "(1, 20)"
      ]
     },
     "execution_count": 4,
     "metadata": {},
     "output_type": "execute_result"
    }
   ],
   "source": [
    "#determine labels according to given data graph in problem description\n",
    "y=np.where(P[0]*-0.5>P[1], 1,-1)\n",
    "y=y[np.newaxis,:]\n",
    "y.shape"
   ]
  },
  {
   "cell_type": "code",
   "execution_count": 5,
   "metadata": {
    "colab": {
     "base_uri": "https://localhost:8080/"
    },
    "id": "n9rJZPnn7JQm",
    "outputId": "cd0e56ff-55d7-47ed-c554-47a786100326"
   },
   "outputs": [
    {
     "data": {
      "text/plain": [
       "array([[3],\n",
       "       [1]])"
      ]
     },
     "execution_count": 5,
     "metadata": {},
     "output_type": "execute_result"
    }
   ],
   "source": [
    "point_p=np.array([[3],[1]]) #point p is selected randomly by hand with shape of (2,1)\n",
    "point_p"
   ]
  },
  {
   "cell_type": "code",
   "execution_count": 6,
   "metadata": {
    "colab": {
     "base_uri": "https://localhost:8080/"
    },
    "id": "aRfpdZs7DQUr",
    "outputId": "9d3b8040-b6e2-437d-ae33-6bdadbb6d988"
   },
   "outputs": [
    {
     "data": {
      "text/plain": [
       "array([[ 1.74945474e-02, -2.86072997e-03, -4.84565132e-03,\n",
       "        -2.65331856e-02, -8.28462937e-05, -3.19631364e-03,\n",
       "        -5.36629362e-03,  3.15402668e-03,  4.21050716e-03,\n",
       "        -1.06560298e-02, -8.86239670e-03, -4.75733493e-03,\n",
       "         6.89682310e-03,  5.61192176e-03, -1.30554851e-02,\n",
       "        -1.11947526e-02,  7.36837391e-03,  1.57463407e-02,\n",
       "        -3.10750885e-04, -6.83446627e-03],\n",
       "       [ 1.09562970e-02, -3.09576637e-03,  7.25752225e-03,\n",
       "         1.54907163e-02,  6.30079822e-03,  7.34932370e-04,\n",
       "         7.32271354e-03, -6.42575392e-03, -1.78093175e-03,\n",
       "        -5.73954559e-03, -2.04375316e-03, -4.86495100e-03,\n",
       "        -1.85775324e-03, -3.80536417e-03,  8.89776353e-04,\n",
       "         6.36716614e-04,  2.96347108e-03,  1.40277112e-02,\n",
       "        -1.54686257e-02,  1.29561858e-02],\n",
       "       [-1.00000000e+00,  1.00000000e+00, -1.00000000e+00,\n",
       "        -1.00000000e+00, -1.00000000e+00,  1.00000000e+00,\n",
       "        -1.00000000e+00,  1.00000000e+00, -1.00000000e+00,\n",
       "         1.00000000e+00,  1.00000000e+00,  1.00000000e+00,\n",
       "        -1.00000000e+00,  1.00000000e+00,  1.00000000e+00,\n",
       "         1.00000000e+00, -1.00000000e+00, -1.00000000e+00,\n",
       "         1.00000000e+00, -1.00000000e+00]])"
      ]
     },
     "execution_count": 6,
     "metadata": {},
     "output_type": "execute_result"
    }
   ],
   "source": [
    "#concatenate input features with labels\n",
    "data=np.concatenate((P,y),axis=0)\n",
    "data"
   ]
  },
  {
   "cell_type": "code",
   "execution_count": 12,
   "metadata": {
    "id": "2amJwObTZ2y2"
   },
   "outputs": [],
   "source": [
    "#strength of data is represented by s\n",
    "s=np.abs(np.random.normal(0.5,0.3,size=(1,n)))\n"
   ]
  },
  {
   "cell_type": "code",
   "execution_count": 13,
   "metadata": {
    "id": "8T7wOJFDg_PU"
   },
   "outputs": [],
   "source": [
    "#below solution is shortcut\n",
    "def function(point_p,P,s,y):\n",
    "  l2_norm=np.sqrt(np.sum(np.square(point_p-P),axis=0))\n",
    "  l2_norm_square=np.square(l2_norm) #square and  square root cancels each other, yet we wrote whole formula\n",
    "  exponential=np.exp(-1*l2_norm_square)\n",
    "  exponential=exponential[np.newaxis,:]\n",
    "  a=(y*(s+1)) #elementwise product of y and s\n",
    "  step2=np.matmul(exponential,a.T)\n",
    "  print(step2)\n",
    "  return(np.sign(step2))"
   ]
  },
  {
   "cell_type": "code",
   "execution_count": 14,
   "metadata": {
    "id": "NUpAhJaFk6O4"
   },
   "outputs": [],
   "source": [
    "#below solution is done directly according to the solution in part 'b'\n",
    "def function_long_solution(point_p,P,n,s,y):\n",
    "  step1=np.matmul((point_p-P).T,(point_p-P))\n",
    "  identity=np.identity(n)\n",
    "  matrix1=step1*identity\n",
    "  U=np.ones((n,1)) \n",
    "  extracted_diagonal=np.matmul(matrix1,U)\n",
    "  exponential=np.exp(-1*extracted_diagonal)\n",
    "  a=(y*(s+1)) #elementwise product of y and s\n",
    "  step2=np.matmul(exponential.T,a.T)\n",
    "  print(step2)\n",
    "  return(np.sign(step2))"
   ]
  },
  {
   "cell_type": "code",
   "execution_count": 15,
   "metadata": {
    "colab": {
     "base_uri": "https://localhost:8080/"
    },
    "id": "2WatMdAdbCce",
    "outputId": "a82d18fe-be22-465b-b76e-0cd5c67f53fa"
   },
   "outputs": [
    {
     "name": "stdout",
     "output_type": "stream",
     "text": [
      "[[-7.98364753e-05]]\n",
      "[[-7.98364753e-05]]\n",
      "predicted label for given point [[3 1]]  is  [[-1.]]\n",
      "predicted label for given point [[3 1]]  is  [[-1.]]\n",
      "[[ True]]\n"
     ]
    }
   ],
   "source": [
    "label_p=function(point_p,P,s,y) #solution of shortcut\n",
    "label_p_long= function_long_solution(point_p,P,n,s,y) #solution according to the part 'b'\n",
    "print(\"predicted label for given point\",point_p.T,\" is \" , label_p) \n",
    "print(\"predicted label for given point\",point_p.T,\" is \" , label_p_long) \n",
    "print(label_p==label_p_long) #check whether they are same"
   ]
  },
  {
   "cell_type": "code",
   "execution_count": 16,
   "metadata": {
    "colab": {
     "base_uri": "https://localhost:8080/",
     "height": 301
    },
    "id": "QROYtIkfBiSk",
    "outputId": "39d19361-d0ea-45b0-f10f-e3ecbc70799d"
   },
   "outputs": [
    {
     "data": {
      "text/plain": [
       "Text(0, 0.5, 'p2')"
      ]
     },
     "execution_count": 16,
     "metadata": {},
     "output_type": "execute_result"
    },
    {
     "data": {
      "image/png": "[encoded data removed]",
      "text/plain": [
       "<Figure size 432x288 with 1 Axes>"
      ]
     },
     "metadata": {
      "needs_background": "light"
     },
     "output_type": "display_data"
    }
   ],
   "source": [
    "import matplotlib.pyplot as plt\n",
    "color = ['green' if x<1 else 'red' for x in data[2,:]]\n",
    "mark=['+' if x<1 else '_' for x in data[2,:]]\n",
    "x1=np.random.uniform(0.05,-0.05,10)\n",
    "error=0.002 #we don't want to get 1 accuracy for decision boundary so that we added an error\n",
    "plt.plot(x1,x1*-0.5+error)\n",
    "for i in range(len(mark)):\n",
    "  plt.scatter(data[0][i],data[1][i],c=color[i],marker=mark[i],s=90)\n",
    "plt.xlabel(\"p1\",fontsize=15,color=\"b\")\n",
    "plt.ylabel(\"p2\",fontsize=15,color=\"b\")"
   ]
  },
  {
   "cell_type": "code",
   "execution_count": 16,
   "metadata": {
    "id": "9PqWrVV4Y239"
   },
   "outputs": [],
   "source": []
  }
 ],
 "metadata": {
  "colab": {
   "collapsed_sections": [],
   "name": "Untitled0 (9).ipynb",
   "provenance": []
  },
  "kernelspec": {
   "display_name": "Python 3",
   "language": "python",
   "name": "python3"
  },
  "language_info": {
   "codemirror_mode": {
    "name": "ipython",
    "version": 3
   },
   "file_extension": ".py",
   "mimetype": "text/x-python",
   "name": "python",
   "nbconvert_exporter": "python",
   "pygments_lexer": "ipython3",
   "version": "3.8.8"
  }
 },
 "nbformat": 4,
 "nbformat_minor": 1
}
