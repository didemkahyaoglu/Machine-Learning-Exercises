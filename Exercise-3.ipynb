{
 "cells": [
  {
   "cell_type": "markdown",
   "metadata": {},
   "source": [
    "# Load and investigate data"
   ]
  },
  {
   "cell_type": "markdown",
   "metadata": {},
   "source": [
    "Load data"
   ]
  },
  {
   "cell_type": "code",
   "execution_count": 1,
   "metadata": {},
   "outputs": [],
   "source": [
    "import pandas as pd\n",
    "\n",
    "df = pd.read_csv('cars.csv', encoding='latin-1')"
   ]
  },
  {
   "cell_type": "markdown",
   "metadata": {},
   "source": [
    "Investigate data"
   ]
  },
  {
   "cell_type": "code",
   "execution_count": 2,
   "metadata": {},
   "outputs": [
    {
     "name": "stdout",
     "output_type": "stream",
     "text": [
      "<class 'pandas.core.frame.DataFrame'>\n",
      "RangeIndex: 327 entries, 0 to 326\n",
      "Data columns (total 9 columns):\n",
      " #   Column        Non-Null Count  Dtype  \n",
      "---  ------        --------------  -----  \n",
      " 0   Car           327 non-null    object \n",
      " 1   MPG           327 non-null    float64\n",
      " 2   Cylinders     327 non-null    int64  \n",
      " 3   Displacement  327 non-null    float64\n",
      " 4   Horsepower    327 non-null    float64\n",
      " 5   Weight        327 non-null    float64\n",
      " 6   Acceleration  327 non-null    float64\n",
      " 7   Model         327 non-null    int64  \n",
      " 8   target        327 non-null    object \n",
      "dtypes: float64(5), int64(2), object(2)\n",
      "memory usage: 23.1+ KB\n"
     ]
    }
   ],
   "source": [
    "df.info()"
   ]
  },
  {
   "cell_type": "code",
   "execution_count": 3,
   "metadata": {},
   "outputs": [
    {
     "data": {
      "text/plain": [
       "(327, 9)"
      ]
     },
     "execution_count": 3,
     "metadata": {},
     "output_type": "execute_result"
    }
   ],
   "source": [
    "df.shape"
   ]
  },
  {
   "cell_type": "code",
   "execution_count": 4,
   "metadata": {},
   "outputs": [
    {
     "data": {
      "text/html": [
       "<div>\n",
       "<style scoped>\n",
       "    .dataframe tbody tr th:only-of-type {\n",
       "        vertical-align: middle;\n",
       "    }\n",
       "\n",
       "    .dataframe tbody tr th {\n",
       "        vertical-align: top;\n",
       "    }\n",
       "\n",
       "    .dataframe thead th {\n",
       "        text-align: right;\n",
       "    }\n",
       "</style>\n",
       "<table border=\"1\" class=\"dataframe\">\n",
       "  <thead>\n",
       "    <tr style=\"text-align: right;\">\n",
       "      <th></th>\n",
       "      <th>Car</th>\n",
       "      <th>MPG</th>\n",
       "      <th>Cylinders</th>\n",
       "      <th>Displacement</th>\n",
       "      <th>Horsepower</th>\n",
       "      <th>Weight</th>\n",
       "      <th>Acceleration</th>\n",
       "      <th>Model</th>\n",
       "      <th>target</th>\n",
       "    </tr>\n",
       "  </thead>\n",
       "  <tbody>\n",
       "    <tr>\n",
       "      <th>0</th>\n",
       "      <td>Chevrolet Chevelle Malibu</td>\n",
       "      <td>18.0</td>\n",
       "      <td>8</td>\n",
       "      <td>307.0</td>\n",
       "      <td>130.0</td>\n",
       "      <td>3504.0</td>\n",
       "      <td>12.0</td>\n",
       "      <td>70</td>\n",
       "      <td>US</td>\n",
       "    </tr>\n",
       "    <tr>\n",
       "      <th>1</th>\n",
       "      <td>Volkswagen 1131 Deluxe Sedan</td>\n",
       "      <td>26.0</td>\n",
       "      <td>4</td>\n",
       "      <td>97.0</td>\n",
       "      <td>46.0</td>\n",
       "      <td>1835.0</td>\n",
       "      <td>20.5</td>\n",
       "      <td>70</td>\n",
       "      <td>Europe</td>\n",
       "    </tr>\n",
       "    <tr>\n",
       "      <th>2</th>\n",
       "      <td>Buick Skylark 320</td>\n",
       "      <td>15.0</td>\n",
       "      <td>8</td>\n",
       "      <td>350.0</td>\n",
       "      <td>165.0</td>\n",
       "      <td>3693.0</td>\n",
       "      <td>11.5</td>\n",
       "      <td>70</td>\n",
       "      <td>US</td>\n",
       "    </tr>\n",
       "    <tr>\n",
       "      <th>3</th>\n",
       "      <td>Plymouth Satellite</td>\n",
       "      <td>18.0</td>\n",
       "      <td>8</td>\n",
       "      <td>318.0</td>\n",
       "      <td>150.0</td>\n",
       "      <td>3436.0</td>\n",
       "      <td>11.0</td>\n",
       "      <td>70</td>\n",
       "      <td>US</td>\n",
       "    </tr>\n",
       "    <tr>\n",
       "      <th>4</th>\n",
       "      <td>AMC Rebel SST</td>\n",
       "      <td>16.0</td>\n",
       "      <td>8</td>\n",
       "      <td>304.0</td>\n",
       "      <td>150.0</td>\n",
       "      <td>3433.0</td>\n",
       "      <td>12.0</td>\n",
       "      <td>70</td>\n",
       "      <td>US</td>\n",
       "    </tr>\n",
       "  </tbody>\n",
       "</table>\n",
       "</div>"
      ],
      "text/plain": [
       "                            Car   MPG  Cylinders  Displacement  Horsepower  \\\n",
       "0     Chevrolet Chevelle Malibu  18.0          8         307.0       130.0   \n",
       "1  Volkswagen 1131 Deluxe Sedan  26.0          4          97.0        46.0   \n",
       "2             Buick Skylark 320  15.0          8         350.0       165.0   \n",
       "3            Plymouth Satellite  18.0          8         318.0       150.0   \n",
       "4                 AMC Rebel SST  16.0          8         304.0       150.0   \n",
       "\n",
       "   Weight  Acceleration  Model  target  \n",
       "0  3504.0          12.0     70      US  \n",
       "1  1835.0          20.5     70  Europe  \n",
       "2  3693.0          11.5     70      US  \n",
       "3  3436.0          11.0     70      US  \n",
       "4  3433.0          12.0     70      US  "
      ]
     },
     "execution_count": 4,
     "metadata": {},
     "output_type": "execute_result"
    }
   ],
   "source": [
    "df.head()"
   ]
  },
  {
   "cell_type": "markdown",
   "metadata": {},
   "source": [
    "As you can see we have target (or y) as spam/ham and we have rawText which contains the raw text message"
   ]
  },
  {
   "cell_type": "code",
   "execution_count": 5,
   "metadata": {},
   "outputs": [
    {
     "data": {
      "text/plain": [
       "array(['Europe', 'US'], dtype=object)"
      ]
     },
     "execution_count": 5,
     "metadata": {},
     "output_type": "execute_result"
    }
   ],
   "source": [
    "import numpy as np\n",
    "\n",
    "np.unique(df.target)"
   ]
  },
  {
   "cell_type": "code",
   "execution_count": 6,
   "metadata": {},
   "outputs": [
    {
     "data": {
      "text/plain": [
       "US        254\n",
       "Europe     73\n",
       "Name: target, dtype: int64"
      ]
     },
     "execution_count": 6,
     "metadata": {},
     "output_type": "execute_result"
    }
   ],
   "source": [
    "df['target'].value_counts()"
   ]
  },
  {
   "cell_type": "markdown",
   "metadata": {},
   "source": [
    "Get input and output data from data frame"
   ]
  },
  {
   "cell_type": "code",
   "execution_count": 7,
   "metadata": {},
   "outputs": [],
   "source": [
    "y_labels = list(df['target'])\n",
    "X = df.drop(['target', 'Car', 'Model'], axis=1)"
   ]
  },
  {
   "cell_type": "code",
   "execution_count": 8,
   "metadata": {},
   "outputs": [
    {
     "data": {
      "text/html": [
       "<div>\n",
       "<style scoped>\n",
       "    .dataframe tbody tr th:only-of-type {\n",
       "        vertical-align: middle;\n",
       "    }\n",
       "\n",
       "    .dataframe tbody tr th {\n",
       "        vertical-align: top;\n",
       "    }\n",
       "\n",
       "    .dataframe thead th {\n",
       "        text-align: right;\n",
       "    }\n",
       "</style>\n",
       "<table border=\"1\" class=\"dataframe\">\n",
       "  <thead>\n",
       "    <tr style=\"text-align: right;\">\n",
       "      <th></th>\n",
       "      <th>MPG</th>\n",
       "      <th>Cylinders</th>\n",
       "      <th>Displacement</th>\n",
       "      <th>Horsepower</th>\n",
       "      <th>Weight</th>\n",
       "      <th>Acceleration</th>\n",
       "    </tr>\n",
       "  </thead>\n",
       "  <tbody>\n",
       "    <tr>\n",
       "      <th>0</th>\n",
       "      <td>18.0</td>\n",
       "      <td>8</td>\n",
       "      <td>307.0</td>\n",
       "      <td>130.0</td>\n",
       "      <td>3504.0</td>\n",
       "      <td>12.0</td>\n",
       "    </tr>\n",
       "    <tr>\n",
       "      <th>1</th>\n",
       "      <td>26.0</td>\n",
       "      <td>4</td>\n",
       "      <td>97.0</td>\n",
       "      <td>46.0</td>\n",
       "      <td>1835.0</td>\n",
       "      <td>20.5</td>\n",
       "    </tr>\n",
       "    <tr>\n",
       "      <th>2</th>\n",
       "      <td>15.0</td>\n",
       "      <td>8</td>\n",
       "      <td>350.0</td>\n",
       "      <td>165.0</td>\n",
       "      <td>3693.0</td>\n",
       "      <td>11.5</td>\n",
       "    </tr>\n",
       "    <tr>\n",
       "      <th>3</th>\n",
       "      <td>18.0</td>\n",
       "      <td>8</td>\n",
       "      <td>318.0</td>\n",
       "      <td>150.0</td>\n",
       "      <td>3436.0</td>\n",
       "      <td>11.0</td>\n",
       "    </tr>\n",
       "    <tr>\n",
       "      <th>4</th>\n",
       "      <td>16.0</td>\n",
       "      <td>8</td>\n",
       "      <td>304.0</td>\n",
       "      <td>150.0</td>\n",
       "      <td>3433.0</td>\n",
       "      <td>12.0</td>\n",
       "    </tr>\n",
       "    <tr>\n",
       "      <th>...</th>\n",
       "      <td>...</td>\n",
       "      <td>...</td>\n",
       "      <td>...</td>\n",
       "      <td>...</td>\n",
       "      <td>...</td>\n",
       "      <td>...</td>\n",
       "    </tr>\n",
       "    <tr>\n",
       "      <th>322</th>\n",
       "      <td>27.0</td>\n",
       "      <td>4</td>\n",
       "      <td>140.0</td>\n",
       "      <td>86.0</td>\n",
       "      <td>2790.0</td>\n",
       "      <td>15.6</td>\n",
       "    </tr>\n",
       "    <tr>\n",
       "      <th>323</th>\n",
       "      <td>44.0</td>\n",
       "      <td>4</td>\n",
       "      <td>97.0</td>\n",
       "      <td>52.0</td>\n",
       "      <td>2130.0</td>\n",
       "      <td>24.6</td>\n",
       "    </tr>\n",
       "    <tr>\n",
       "      <th>324</th>\n",
       "      <td>32.0</td>\n",
       "      <td>4</td>\n",
       "      <td>135.0</td>\n",
       "      <td>84.0</td>\n",
       "      <td>2295.0</td>\n",
       "      <td>11.6</td>\n",
       "    </tr>\n",
       "    <tr>\n",
       "      <th>325</th>\n",
       "      <td>28.0</td>\n",
       "      <td>4</td>\n",
       "      <td>120.0</td>\n",
       "      <td>79.0</td>\n",
       "      <td>2625.0</td>\n",
       "      <td>18.6</td>\n",
       "    </tr>\n",
       "    <tr>\n",
       "      <th>326</th>\n",
       "      <td>31.0</td>\n",
       "      <td>4</td>\n",
       "      <td>119.0</td>\n",
       "      <td>82.0</td>\n",
       "      <td>2720.0</td>\n",
       "      <td>19.4</td>\n",
       "    </tr>\n",
       "  </tbody>\n",
       "</table>\n",
       "<p>327 rows × 6 columns</p>\n",
       "</div>"
      ],
      "text/plain": [
       "      MPG  Cylinders  Displacement  Horsepower  Weight  Acceleration\n",
       "0    18.0          8         307.0       130.0  3504.0          12.0\n",
       "1    26.0          4          97.0        46.0  1835.0          20.5\n",
       "2    15.0          8         350.0       165.0  3693.0          11.5\n",
       "3    18.0          8         318.0       150.0  3436.0          11.0\n",
       "4    16.0          8         304.0       150.0  3433.0          12.0\n",
       "..    ...        ...           ...         ...     ...           ...\n",
       "322  27.0          4         140.0        86.0  2790.0          15.6\n",
       "323  44.0          4          97.0        52.0  2130.0          24.6\n",
       "324  32.0          4         135.0        84.0  2295.0          11.6\n",
       "325  28.0          4         120.0        79.0  2625.0          18.6\n",
       "326  31.0          4         119.0        82.0  2720.0          19.4\n",
       "\n",
       "[327 rows x 6 columns]"
      ]
     },
     "execution_count": 8,
     "metadata": {},
     "output_type": "execute_result"
    }
   ],
   "source": [
    "X"
   ]
  },
  {
   "cell_type": "code",
   "execution_count": 9,
   "metadata": {},
   "outputs": [
    {
     "data": {
      "text/plain": [
       "['US',\n",
       " 'Europe',\n",
       " 'US',\n",
       " 'US',\n",
       " 'US',\n",
       " 'US',\n",
       " 'US',\n",
       " 'US',\n",
       " 'US',\n",
       " 'US',\n",
       " 'US',\n",
       " 'Europe',\n",
       " 'US',\n",
       " 'US',\n",
       " 'US',\n",
       " 'US',\n",
       " 'US',\n",
       " 'US',\n",
       " 'US',\n",
       " 'US',\n",
       " 'US',\n",
       " 'US',\n",
       " 'US',\n",
       " 'US',\n",
       " 'Europe',\n",
       " 'Europe',\n",
       " 'Europe',\n",
       " 'Europe',\n",
       " 'US',\n",
       " 'US',\n",
       " 'US',\n",
       " 'US',\n",
       " 'US',\n",
       " 'US',\n",
       " 'US',\n",
       " 'Europe',\n",
       " 'US',\n",
       " 'US',\n",
       " 'US',\n",
       " 'US',\n",
       " 'US',\n",
       " 'US',\n",
       " 'US',\n",
       " 'US',\n",
       " 'US',\n",
       " 'US',\n",
       " 'US',\n",
       " 'US',\n",
       " 'US',\n",
       " 'US',\n",
       " 'US',\n",
       " 'US',\n",
       " 'US',\n",
       " 'Europe',\n",
       " 'Europe',\n",
       " 'Europe',\n",
       " 'Europe',\n",
       " 'US',\n",
       " 'US',\n",
       " 'Europe',\n",
       " 'US',\n",
       " 'US',\n",
       " 'US',\n",
       " 'US',\n",
       " 'US',\n",
       " 'US',\n",
       " 'US',\n",
       " 'US',\n",
       " 'US',\n",
       " 'US',\n",
       " 'US',\n",
       " 'US',\n",
       " 'US',\n",
       " 'US',\n",
       " 'US',\n",
       " 'Europe',\n",
       " 'Europe',\n",
       " 'Europe',\n",
       " 'Europe',\n",
       " 'US',\n",
       " 'US',\n",
       " 'US',\n",
       " 'US',\n",
       " 'US',\n",
       " 'US',\n",
       " 'US',\n",
       " 'US',\n",
       " 'US',\n",
       " 'US',\n",
       " 'US',\n",
       " 'US',\n",
       " 'US',\n",
       " 'US',\n",
       " 'US',\n",
       " 'US',\n",
       " 'US',\n",
       " 'US',\n",
       " 'US',\n",
       " 'Europe',\n",
       " 'US',\n",
       " 'US',\n",
       " 'US',\n",
       " 'US',\n",
       " 'US',\n",
       " 'US',\n",
       " 'US',\n",
       " 'US',\n",
       " 'Europe',\n",
       " 'US',\n",
       " 'US',\n",
       " 'Europe',\n",
       " 'Europe',\n",
       " 'Europe',\n",
       " 'Europe',\n",
       " 'US',\n",
       " 'Europe',\n",
       " 'US',\n",
       " 'US',\n",
       " 'US',\n",
       " 'US',\n",
       " 'US',\n",
       " 'US',\n",
       " 'US',\n",
       " 'US',\n",
       " 'US',\n",
       " 'US',\n",
       " 'US',\n",
       " 'US',\n",
       " 'US',\n",
       " 'US',\n",
       " 'US',\n",
       " 'Europe',\n",
       " 'Europe',\n",
       " 'Europe',\n",
       " 'US',\n",
       " 'Europe',\n",
       " 'Europe',\n",
       " 'Europe',\n",
       " 'US',\n",
       " 'US',\n",
       " 'US',\n",
       " 'US',\n",
       " 'US',\n",
       " 'US',\n",
       " 'US',\n",
       " 'US',\n",
       " 'US',\n",
       " 'US',\n",
       " 'US',\n",
       " 'US',\n",
       " 'US',\n",
       " 'US',\n",
       " 'US',\n",
       " 'US',\n",
       " 'US',\n",
       " 'US',\n",
       " 'Europe',\n",
       " 'US',\n",
       " 'Europe',\n",
       " 'US',\n",
       " 'Europe',\n",
       " 'Europe',\n",
       " 'Europe',\n",
       " 'Europe',\n",
       " 'Europe',\n",
       " 'Europe',\n",
       " 'US',\n",
       " 'US',\n",
       " 'Europe',\n",
       " 'US',\n",
       " 'US',\n",
       " 'US',\n",
       " 'US',\n",
       " 'US',\n",
       " 'US',\n",
       " 'US',\n",
       " 'US',\n",
       " 'US',\n",
       " 'US',\n",
       " 'Europe',\n",
       " 'US',\n",
       " 'US',\n",
       " 'US',\n",
       " 'US',\n",
       " 'Europe',\n",
       " 'US',\n",
       " 'Europe',\n",
       " 'US',\n",
       " 'Europe',\n",
       " 'Europe',\n",
       " 'US',\n",
       " 'US',\n",
       " 'US',\n",
       " 'US',\n",
       " 'US',\n",
       " 'Europe',\n",
       " 'US',\n",
       " 'US',\n",
       " 'US',\n",
       " 'US',\n",
       " 'US',\n",
       " 'US',\n",
       " 'US',\n",
       " 'US',\n",
       " 'US',\n",
       " 'US',\n",
       " 'US',\n",
       " 'US',\n",
       " 'US',\n",
       " 'Europe',\n",
       " 'US',\n",
       " 'US',\n",
       " 'US',\n",
       " 'US',\n",
       " 'Europe',\n",
       " 'Europe',\n",
       " 'Europe',\n",
       " 'US',\n",
       " 'US',\n",
       " 'US',\n",
       " 'US',\n",
       " 'US',\n",
       " 'US',\n",
       " 'US',\n",
       " 'US',\n",
       " 'US',\n",
       " 'US',\n",
       " 'US',\n",
       " 'US',\n",
       " 'US',\n",
       " 'US',\n",
       " 'US',\n",
       " 'US',\n",
       " 'US',\n",
       " 'US',\n",
       " 'US',\n",
       " 'US',\n",
       " 'US',\n",
       " 'US',\n",
       " 'Europe',\n",
       " 'Europe',\n",
       " 'Europe',\n",
       " 'Europe',\n",
       " 'Europe',\n",
       " 'US',\n",
       " 'US',\n",
       " 'US',\n",
       " 'US',\n",
       " 'US',\n",
       " 'US',\n",
       " 'US',\n",
       " 'US',\n",
       " 'US',\n",
       " 'US',\n",
       " 'US',\n",
       " 'US',\n",
       " 'US',\n",
       " 'Europe',\n",
       " 'US',\n",
       " 'US',\n",
       " 'Europe',\n",
       " 'US',\n",
       " 'Europe',\n",
       " 'US',\n",
       " 'US',\n",
       " 'US',\n",
       " 'Europe',\n",
       " 'US',\n",
       " 'US',\n",
       " 'US',\n",
       " 'US',\n",
       " 'Europe',\n",
       " 'US',\n",
       " 'US',\n",
       " 'US',\n",
       " 'US',\n",
       " 'US',\n",
       " 'Europe',\n",
       " 'US',\n",
       " 'Europe',\n",
       " 'Europe',\n",
       " 'Europe',\n",
       " 'Europe',\n",
       " 'Europe',\n",
       " 'Europe',\n",
       " 'Europe',\n",
       " 'US',\n",
       " 'US',\n",
       " 'US',\n",
       " 'US',\n",
       " 'US',\n",
       " 'US',\n",
       " 'US',\n",
       " 'US',\n",
       " 'US',\n",
       " 'US',\n",
       " 'Europe',\n",
       " 'Europe',\n",
       " 'Europe',\n",
       " 'Europe',\n",
       " 'Europe',\n",
       " 'US',\n",
       " 'US',\n",
       " 'US',\n",
       " 'US',\n",
       " 'US',\n",
       " 'US',\n",
       " 'US',\n",
       " 'US',\n",
       " 'US',\n",
       " 'US',\n",
       " 'US',\n",
       " 'US',\n",
       " 'Europe',\n",
       " 'US',\n",
       " 'US',\n",
       " 'US',\n",
       " 'US',\n",
       " 'US',\n",
       " 'US',\n",
       " 'US',\n",
       " 'US',\n",
       " 'US',\n",
       " 'Europe',\n",
       " 'US',\n",
       " 'US',\n",
       " 'US']"
      ]
     },
     "execution_count": 9,
     "metadata": {},
     "output_type": "execute_result"
    }
   ],
   "source": [
    "y_labels"
   ]
  },
  {
   "cell_type": "markdown",
   "metadata": {},
   "source": [
    "Convert US and Europe labels to numeric values as 1 and 0"
   ]
  },
  {
   "cell_type": "code",
   "execution_count": 10,
   "metadata": {},
   "outputs": [
    {
     "data": {
      "text/plain": [
       "array([1, 0, 1, 1, 1, 1, 1, 1, 1, 1, 1, 0, 1, 1, 1, 1, 1, 1, 1, 1, 1, 1,\n",
       "       1, 1, 0, 0, 0, 0, 1, 1, 1, 1, 1, 1, 1, 0, 1, 1, 1, 1, 1, 1, 1, 1,\n",
       "       1, 1, 1, 1, 1, 1, 1, 1, 1, 0, 0, 0, 0, 1, 1, 0, 1, 1, 1, 1, 1, 1,\n",
       "       1, 1, 1, 1, 1, 1, 1, 1, 1, 0, 0, 0, 0, 1, 1, 1, 1, 1, 1, 1, 1, 1,\n",
       "       1, 1, 1, 1, 1, 1, 1, 1, 1, 1, 0, 1, 1, 1, 1, 1, 1, 1, 1, 0, 1, 1,\n",
       "       0, 0, 0, 0, 1, 0, 1, 1, 1, 1, 1, 1, 1, 1, 1, 1, 1, 1, 1, 1, 1, 0,\n",
       "       0, 0, 1, 0, 0, 0, 1, 1, 1, 1, 1, 1, 1, 1, 1, 1, 1, 1, 1, 1, 1, 1,\n",
       "       1, 1, 0, 1, 0, 1, 0, 0, 0, 0, 0, 0, 1, 1, 0, 1, 1, 1, 1, 1, 1, 1,\n",
       "       1, 1, 1, 0, 1, 1, 1, 1, 0, 1, 0, 1, 0, 0, 1, 1, 1, 1, 1, 0, 1, 1,\n",
       "       1, 1, 1, 1, 1, 1, 1, 1, 1, 1, 1, 0, 1, 1, 1, 1, 0, 0, 0, 1, 1, 1,\n",
       "       1, 1, 1, 1, 1, 1, 1, 1, 1, 1, 1, 1, 1, 1, 1, 1, 1, 1, 1, 0, 0, 0,\n",
       "       0, 0, 1, 1, 1, 1, 1, 1, 1, 1, 1, 1, 1, 1, 1, 0, 1, 1, 0, 1, 0, 1,\n",
       "       1, 1, 0, 1, 1, 1, 1, 0, 1, 1, 1, 1, 1, 0, 1, 0, 0, 0, 0, 0, 0, 0,\n",
       "       1, 1, 1, 1, 1, 1, 1, 1, 1, 1, 0, 0, 0, 0, 0, 1, 1, 1, 1, 1, 1, 1,\n",
       "       1, 1, 1, 1, 1, 0, 1, 1, 1, 1, 1, 1, 1, 1, 1, 0, 1, 1, 1],\n",
       "      dtype=int64)"
      ]
     },
     "execution_count": 10,
     "metadata": {},
     "output_type": "execute_result"
    }
   ],
   "source": [
    "from sklearn.preprocessing import LabelEncoder\n",
    "\n",
    "le = LabelEncoder()\n",
    "y = le.fit_transform(y_labels)\n",
    "\n",
    "y"
   ]
  },
  {
   "cell_type": "markdown",
   "metadata": {},
   "source": [
    "# Naive Bayes classifier"
   ]
  },
  {
   "cell_type": "markdown",
   "metadata": {},
   "source": [
    "Divide your data as train and test data using train-test-split (50% train, 50% test)"
   ]
  },
  {
   "cell_type": "code",
   "execution_count": 11,
   "metadata": {
    "scrolled": false
   },
   "outputs": [
    {
     "name": "stdout",
     "output_type": "stream",
     "text": [
      "Training set size is 163 rows\n",
      "Test set size is 164 rows\n",
      "Train + test set size is 327 rows\n"
     ]
    }
   ],
   "source": [
    "#student code\n",
    "\n",
    "from sklearn.model_selection import train_test_split\n",
    "\n",
    "X_train, X_test, y_train, y_test = train_test_split(X, y, test_size=0.5, random_state=123) \n",
    "\n",
    "print(f'Training set size is {len(X_train)} rows')\n",
    "print(f'Test set size is {len(X_test)} rows')\n",
    "print(f'Train + test set size is {len(X_train) + len(X_test)} rows')\n"
   ]
  },
  {
   "cell_type": "markdown",
   "metadata": {},
   "source": [
    "Use Naive Bayes to fit on train data"
   ]
  },
  {
   "cell_type": "code",
   "execution_count": 12,
   "metadata": {},
   "outputs": [
    {
     "data": {
      "text/plain": [
       "GaussianNB()"
      ]
     },
     "execution_count": 12,
     "metadata": {},
     "output_type": "execute_result"
    }
   ],
   "source": [
    "#student code\n",
    "\n",
    "from sklearn.naive_bayes import GaussianNB\n",
    "\n",
    "nb = GaussianNB()\n",
    "nb.fit(X_train, y_train)\n",
    "\n"
   ]
  },
  {
   "cell_type": "markdown",
   "metadata": {},
   "source": [
    "Do prediction on test data"
   ]
  },
  {
   "cell_type": "code",
   "execution_count": 13,
   "metadata": {},
   "outputs": [],
   "source": [
    "y_pred = nb.predict(X_test)"
   ]
  },
  {
   "cell_type": "code",
   "execution_count": 14,
   "metadata": {},
   "outputs": [
    {
     "data": {
      "text/plain": [
       "array([0, 0, 1, 1, 0, 1, 0, 1, 0, 0, 0, 1, 1, 0, 1, 0, 1, 0, 1, 1, 1, 1,\n",
       "       0, 1, 1, 0, 1, 1, 1, 1, 1, 0, 1, 0, 0, 1, 0, 1, 0, 1, 0, 0, 0, 1,\n",
       "       1, 0, 1, 0, 1, 0, 1, 1, 0, 1, 0, 0, 0, 1, 1, 1, 0, 0, 0, 1, 1, 1,\n",
       "       1, 0, 0, 1, 0, 0, 0, 0, 0, 1, 0, 1, 0, 0, 1, 1, 1, 1, 1, 0, 0, 0,\n",
       "       0, 0, 0, 0, 0, 1, 0, 0, 0, 1, 1, 1, 1, 1, 1, 1, 1, 1, 1, 0, 1, 1,\n",
       "       1, 1, 0, 1, 1, 0, 1, 1, 1, 0, 1, 1, 0, 1, 1, 0, 1, 0, 0, 0, 0, 1,\n",
       "       0, 1, 0, 0, 1, 1, 1, 1, 1, 1, 0, 0, 1, 0, 1, 0, 1, 1, 0, 1, 1, 0,\n",
       "       0, 1, 0, 1, 0, 0, 0, 1, 1, 0], dtype=int64)"
      ]
     },
     "execution_count": 14,
     "metadata": {},
     "output_type": "execute_result"
    }
   ],
   "source": [
    "y_pred"
   ]
  },
  {
   "cell_type": "markdown",
   "metadata": {},
   "source": [
    "Show classification performance"
   ]
  },
  {
   "cell_type": "code",
   "execution_count": 15,
   "metadata": {},
   "outputs": [
    {
     "name": "stdout",
     "output_type": "stream",
     "text": [
      "Train Accuracy:  0.7914110429447853\n",
      "\n"
     ]
    }
   ],
   "source": [
    "from sklearn.metrics import accuracy_score, confusion_matrix, classification_report\n",
    "\n",
    "print('Train Accuracy: ', accuracy_score(y_train, nb.predict(X_train)))\n",
    "print()"
   ]
  },
  {
   "cell_type": "code",
   "execution_count": 16,
   "metadata": {},
   "outputs": [
    {
     "name": "stdout",
     "output_type": "stream",
     "text": [
      "Test Accuracy:  0.7378048780487805\n",
      "\n"
     ]
    }
   ],
   "source": [
    "print('Test Accuracy: ', accuracy_score(y_test, y_pred))\n",
    "print()"
   ]
  },
  {
   "cell_type": "code",
   "execution_count": 17,
   "metadata": {},
   "outputs": [
    {
     "name": "stdout",
     "output_type": "stream",
     "text": [
      "Confusion Matrix\n",
      "[[35  2]\n",
      " [41 86]]\n",
      "\n",
      "Classification Report\n",
      "              precision    recall  f1-score   support\n",
      "\n",
      "           0       0.46      0.95      0.62        37\n",
      "           1       0.98      0.68      0.80       127\n",
      "\n",
      "    accuracy                           0.74       164\n",
      "   macro avg       0.72      0.81      0.71       164\n",
      "weighted avg       0.86      0.74      0.76       164\n",
      "\n"
     ]
    }
   ],
   "source": [
    "conf_mtrx = confusion_matrix(y_test, y_pred)\n",
    "print('Confusion Matrix')\n",
    "print(conf_mtrx)\n",
    "print()\n",
    "\n",
    "print('Classification Report')\n",
    "print(classification_report(y_test, y_pred))"
   ]
  },
  {
   "cell_type": "markdown",
   "metadata": {},
   "source": [
    "Plot Confusion Matrix"
   ]
  },
  {
   "cell_type": "code",
   "execution_count": 18,
   "metadata": {},
   "outputs": [],
   "source": [
    "from matplotlib import pyplot as plt\n",
    "\n",
    "def plot_confusion_matrix(conf_mtrx, classes, cmap=plt.cm.Blues):\n",
    "    num_class = conf_mtrx.shape[0]\n",
    "    \n",
    "    fig, ax = plt.subplots()\n",
    "    im = ax.imshow(conf_mtrx, interpolation='nearest', cmap=cmap)\n",
    "    ax.figure.colorbar(im, ax=ax)\n",
    "    ax.set(xticks=np.arange(num_class), yticks=np.arange(num_class),\n",
    "           xticklabels=classes, yticklabels=classes, \n",
    "           ylabel='True label', xlabel='Predicted label')\n",
    "\n",
    "    middle_threshold = conf_mtrx.max() / 2.\n",
    "    for row in range(num_class):\n",
    "        for col in range(num_class):\n",
    "            ax.text(col, row, format(conf_mtrx[row, col], '.0f'), ha=\"center\", va=\"center\",\n",
    "                    color=\"white\" if conf_mtrx[row, col] > middle_threshold else \"black\")\n",
    "    fig.tight_layout()\n",
    "    plt.show()"
   ]
  },
  {
   "cell_type": "code",
   "execution_count": 19,
   "metadata": {},
   "outputs": [
    {
     "data": {
      "image/png": "[encoded data removed]",
      "text/plain": [
       "<Figure size 432x288 with 2 Axes>"
      ]
     },
     "metadata": {
      "needs_background": "light"
     },
     "output_type": "display_data"
    }
   ],
   "source": [
    "plot_confusion_matrix(conf_mtrx, np.unique(df.target), cmap=plt.cm.Blues)"
   ]
  },
  {
   "cell_type": "code",
   "execution_count": 20,
   "metadata": {},
   "outputs": [],
   "source": [
    "#student code\n",
    "y_test_score_proba = nb.predict_proba(X_test)\n",
    "y_test_score_proba=y_test_score_proba[:,1]"
   ]
  },
  {
   "cell_type": "code",
   "execution_count": 21,
   "metadata": {},
   "outputs": [
    {
     "data": {
      "text/plain": [
       "(164,)"
      ]
     },
     "execution_count": 21,
     "metadata": {},
     "output_type": "execute_result"
    }
   ],
   "source": [
    "y_test_score_proba.shape"
   ]
  },
  {
   "cell_type": "code",
   "execution_count": 22,
   "metadata": {},
   "outputs": [
    {
     "data": {
      "text/plain": [
       "array([0, 1, 1, 1, 1, 1, 0, 1, 1, 1, 0, 1, 1, 1, 1, 0, 0, 1, 1, 1, 1, 1,\n",
       "       0, 1, 1, 0, 1, 1, 1, 1, 1, 0, 1, 1, 1, 1, 1, 1, 1, 1, 1, 0, 0, 1,\n",
       "       1, 1, 1, 1, 1, 0, 1, 1, 1, 1, 1, 1, 1, 1, 1, 1, 1, 1, 0, 1, 1, 1,\n",
       "       1, 1, 0, 1, 1, 1, 1, 0, 1, 1, 0, 1, 1, 1, 1, 1, 1, 1, 1, 0, 1, 0,\n",
       "       0, 1, 0, 1, 1, 1, 1, 0, 1, 1, 1, 1, 1, 1, 1, 1, 1, 1, 1, 0, 1, 1,\n",
       "       1, 1, 0, 1, 1, 0, 1, 1, 1, 1, 1, 1, 0, 1, 1, 1, 1, 1, 0, 0, 1, 1,\n",
       "       1, 1, 0, 1, 1, 1, 1, 1, 1, 1, 0, 0, 1, 0, 1, 0, 1, 1, 0, 1, 0, 1,\n",
       "       0, 1, 1, 1, 1, 0, 0, 1, 1, 0], dtype=int64)"
      ]
     },
     "execution_count": 22,
     "metadata": {},
     "output_type": "execute_result"
    }
   ],
   "source": [
    "y_test"
   ]
  },
  {
   "cell_type": "markdown",
   "metadata": {},
   "source": [
    "ROC curve"
   ]
  },
  {
   "cell_type": "code",
   "execution_count": 23,
   "metadata": {},
   "outputs": [
    {
     "data": {
      "text/plain": [
       "0.8414556288572037"
      ]
     },
     "execution_count": 23,
     "metadata": {},
     "output_type": "execute_result"
    }
   ],
   "source": [
    "#student code  \n",
    "from sklearn.metrics import roc_curve, auc\n",
    "fpr, tpr, thresholds = roc_curve(y_test, y_test_score_proba)\n",
    "roc_auc=auc(fpr, tpr)\n",
    "roc_auc"
   ]
  },
  {
   "cell_type": "code",
   "execution_count": 24,
   "metadata": {},
   "outputs": [
    {
     "data": {
      "image/png": "[encoded data removed]",
      "text/plain": [
       "<Figure size 900x600 with 1 Axes>"
      ]
     },
     "metadata": {
      "needs_background": "light"
     },
     "output_type": "display_data"
    }
   ],
   "source": [
    "#student code\n",
    "plt.figure(dpi = 150)\n",
    "lw = 1\n",
    "plt.grid()\n",
    "\n",
    "plt.plot(fpr, tpr, color='blue',\n",
    "         lw=lw, label=\"US/Europe\")\n",
    "plt.plot([0, 1], [0, 1], lw=lw, linestyle='--',label=\"Random Guess\",color=\"red\")\n",
    "plt.xlim([0.0, 1.0])\n",
    "plt.ylim([0.0, 1.05])\n",
    "plt.xlabel('False Positive Rate(FPR)')\n",
    "plt.ylabel('True Positive Rate(TPR)')\n",
    "plt.legend(loc=\"lower right\")\n",
    "plt.show()\n"
   ]
  },
  {
   "cell_type": "code",
   "execution_count": 25,
   "metadata": {},
   "outputs": [
    {
     "data": {
      "text/plain": [
       "array([0.        , 0.        , 0.        , 0.13513514, 0.13513514,\n",
       "       0.16216216, 0.16216216, 0.18918919, 0.18918919, 0.21621622,\n",
       "       0.21621622, 0.2972973 , 0.2972973 , 0.32432432, 0.32432432,\n",
       "       0.35135135, 0.35135135, 0.37837838, 0.37837838, 0.62162162,\n",
       "       0.62162162, 0.64864865, 0.64864865, 0.72972973, 0.72972973,\n",
       "       0.75675676, 0.75675676, 0.83783784, 0.83783784, 0.89189189,\n",
       "       0.89189189, 0.91891892, 0.91891892, 0.94594595, 0.94594595,\n",
       "       1.        ])"
      ]
     },
     "execution_count": 25,
     "metadata": {},
     "output_type": "execute_result"
    }
   ],
   "source": [
    "fpr"
   ]
  },
  {
   "cell_type": "code",
   "execution_count": 26,
   "metadata": {},
   "outputs": [
    {
     "data": {
      "text/plain": [
       "array([0.        , 0.40944882, 0.67716535, 0.67716535, 0.69291339,\n",
       "       0.69291339, 0.7007874 , 0.7007874 , 0.72440945, 0.72440945,\n",
       "       0.76377953, 0.76377953, 0.77165354, 0.77165354, 0.78740157,\n",
       "       0.78740157, 0.85826772, 0.85826772, 0.86614173, 0.86614173,\n",
       "       0.88976378, 0.88976378, 0.8976378 , 0.8976378 , 0.90551181,\n",
       "       0.90551181, 0.92125984, 0.92125984, 0.95275591, 0.95275591,\n",
       "       0.97637795, 0.97637795, 0.99212598, 0.99212598, 1.        ,\n",
       "       1.        ])"
      ]
     },
     "execution_count": 26,
     "metadata": {},
     "output_type": "execute_result"
    }
   ],
   "source": [
    "tpr"
   ]
  },
  {
   "cell_type": "code",
   "execution_count": 27,
   "metadata": {},
   "outputs": [
    {
     "name": "stdout",
     "output_type": "stream",
     "text": [
      "FPR =  0.21621621621621623\n",
      "TPR =  0.7244094488188977\n",
      "Decision Threshold 0.03618596249186681\n"
     ]
    }
   ],
   "source": [
    "operatingPointIndex = 9\n",
    "\n",
    "print('FPR = ', fpr[operatingPointIndex])\n",
    "print('TPR = ', tpr[operatingPointIndex])\n",
    "\n",
    "decisionThreshold = thresholds[operatingPointIndex]\n",
    "print('Decision Threshold', decisionThreshold)"
   ]
  },
  {
   "cell_type": "code",
   "execution_count": 28,
   "metadata": {},
   "outputs": [
    {
     "name": "stdout",
     "output_type": "stream",
     "text": [
      "True Labels\n",
      "-----------\n",
      "[False  True  True  True  True  True False  True  True  True False  True\n",
      "  True  True  True False False  True  True  True  True  True False  True\n",
      "  True False  True  True  True  True  True False  True  True  True  True\n",
      "  True  True  True  True  True False False  True  True  True  True  True\n",
      "  True False  True  True  True  True  True  True  True  True  True  True\n",
      "  True  True False  True  True  True  True  True False  True  True  True\n",
      "  True False  True  True False  True  True  True  True  True  True  True\n",
      "  True False  True False False  True False  True  True  True  True False\n",
      "  True  True  True  True  True  True  True  True  True  True  True False\n",
      "  True  True  True  True False  True  True False  True  True  True  True\n",
      "  True  True False  True  True  True  True  True False False  True  True\n",
      "  True  True False  True  True  True  True  True  True  True False False\n",
      "  True False  True False  True  True False  True False  True False  True\n",
      "  True  True  True False False  True  True False]\n"
     ]
    }
   ],
   "source": [
    "y_test_bool = (y_test == 1)\n",
    "\n",
    "print('True Labels')\n",
    "print('-----------')\n",
    "print(y_test_bool)"
   ]
  },
  {
   "cell_type": "code",
   "execution_count": 29,
   "metadata": {},
   "outputs": [
    {
     "name": "stdout",
     "output_type": "stream",
     "text": [
      "Predicted Labels\n",
      "----------------\n",
      "[ True False  True  True  True  True False  True False False False  True\n",
      "  True False  True False  True False  True  True  True  True False  True\n",
      "  True False  True  True  True  True  True False  True False False  True\n",
      " False  True False  True  True False False  True  True  True  True False\n",
      "  True  True  True  True False  True False False False  True  True  True\n",
      " False False False  True  True  True  True False False  True False False\n",
      " False  True False  True False  True False  True  True  True  True  True\n",
      "  True False False False False False False  True False  True False False\n",
      "  True  True  True  True  True  True  True  True  True  True  True  True\n",
      "  True  True  True  True False  True  True  True  True  True  True False\n",
      "  True  True False  True  True False  True False False False False  True\n",
      " False  True False False  True  True  True  True  True  True False  True\n",
      "  True False  True False  True  True False  True  True False False  True\n",
      " False  True False False False  True  True False]\n"
     ]
    }
   ],
   "source": [
    "y_test_predicted_bool = (y_test_score_proba >= decisionThreshold)\n",
    "\n",
    "print('Predicted Labels')\n",
    "print('----------------')\n",
    "print(y_test_predicted_bool)"
   ]
  },
  {
   "cell_type": "code",
   "execution_count": 30,
   "metadata": {},
   "outputs": [
    {
     "data": {
      "image/png": "[encoded data removed]",
      "text/plain": [
       "<Figure size 432x288 with 2 Axes>"
      ]
     },
     "metadata": {
      "needs_background": "light"
     },
     "output_type": "display_data"
    },
    {
     "name": "stdout",
     "output_type": "stream",
     "text": [
      "FPR =  0.21621621621621623\n",
      "TPR =  0.7244094488188977\n",
      "Accuracy:  0.7378048780487805\n"
     ]
    }
   ],
   "source": [
    "#student code\n",
    "conf_mtrx=confusion_matrix(y_test_bool, y_test_predicted_bool)\n",
    "plot_confusion_matrix(conf_mtrx, np.unique(df.target), cmap=plt.cm.Blues)\n",
    "operatingPointIndex = 9\n",
    "\n",
    "print('FPR = ', fpr[operatingPointIndex])\n",
    "print('TPR = ', tpr[operatingPointIndex])\n",
    "print('Accuracy: ', accuracy_score(y_test, y_test_predicted_bool))"
   ]
  },
  {
   "cell_type": "code",
   "execution_count": null,
   "metadata": {},
   "outputs": [],
   "source": []
  }
 ],
 "metadata": {
  "kernelspec": {
   "display_name": "Python 3",
   "language": "python",
   "name": "python3"
  },
  "language_info": {
   "codemirror_mode": {
    "name": "ipython",
    "version": 3
   },
   "file_extension": ".py",
   "mimetype": "text/x-python",
   "name": "python",
   "nbconvert_exporter": "python",
   "pygments_lexer": "ipython3",
   "version": "3.8.8"
  }
 },
 "nbformat": 4,
 "nbformat_minor": 4
}
